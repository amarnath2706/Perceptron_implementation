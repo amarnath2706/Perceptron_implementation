{
 "cells": [
  {
   "cell_type": "code",
   "execution_count": 1,
   "id": "dc8b3e83",
   "metadata": {},
   "outputs": [
    {
     "name": "stdout",
     "output_type": "stream",
     "text": [
      "Collecting joblib\n",
      "  Downloading joblib-1.1.0-py2.py3-none-any.whl (306 kB)\n",
      "Installing collected packages: joblib\n",
      "Successfully installed joblib-1.1.0\n"
     ]
    }
   ],
   "source": [
    "!pip install joblib"
   ]
  },
  {
   "cell_type": "code",
   "execution_count": 34,
   "id": "93f22935",
   "metadata": {},
   "outputs": [],
   "source": [
    "#Import the the libraries\n",
    "import os\n",
    "import matplotlib.pyplot as plt\n",
    "#save our model using joblib - binary format\n",
    "import joblib\n",
    "import numpy as np\n",
    "import pandas as pd\n",
    "\n",
    "plt.style.use(\"fivethirtyeight\")"
   ]
  },
  {
   "cell_type": "code",
   "execution_count": 5,
   "id": "7a34473a",
   "metadata": {},
   "outputs": [
    {
     "data": {
      "text/plain": [
       "array([1.84809498, 1.05742928, 0.4066911 ])"
      ]
     },
     "execution_count": 5,
     "metadata": {},
     "output_type": "execute_result"
    }
   ],
   "source": [
    "np.random.randn(3)"
   ]
  },
  {
   "cell_type": "code",
   "execution_count": 7,
   "id": "e3c635df",
   "metadata": {},
   "outputs": [
    {
     "data": {
      "text/plain": [
       "0.0001"
      ]
     },
     "execution_count": 7,
     "metadata": {},
     "output_type": "execute_result"
    }
   ],
   "source": [
    "1e-4"
   ]
  },
  {
   "cell_type": "code",
   "execution_count": 11,
   "id": "b0178e51",
   "metadata": {},
   "outputs": [
    {
     "data": {
      "text/plain": [
       "array([[-1.],\n",
       "       [-1.],\n",
       "       [-1.],\n",
       "       [-1.]])"
      ]
     },
     "execution_count": 11,
     "metadata": {},
     "output_type": "execute_result"
    }
   ],
   "source": [
    "-np.ones((4,1))"
   ]
  },
  {
   "cell_type": "code",
   "execution_count": 13,
   "id": "0f9e85bc",
   "metadata": {},
   "outputs": [
    {
     "data": {
      "text/plain": [
       "array([[1., 1.],\n",
       "       [1., 1.],\n",
       "       [1., 1.],\n",
       "       [1., 1.]])"
      ]
     },
     "execution_count": 13,
     "metadata": {},
     "output_type": "execute_result"
    }
   ],
   "source": [
    "X = np.ones((4,2))\n",
    "X"
   ]
  },
  {
   "cell_type": "code",
   "execution_count": 14,
   "id": "9deb5b9f",
   "metadata": {},
   "outputs": [
    {
     "data": {
      "text/plain": [
       "array([[ 1.,  1., -1.],\n",
       "       [ 1.,  1., -1.],\n",
       "       [ 1.,  1., -1.],\n",
       "       [ 1.,  1., -1.]])"
      ]
     },
     "execution_count": 14,
     "metadata": {},
     "output_type": "execute_result"
    }
   ],
   "source": [
    "np.c_[X,-np.ones((4,1))]"
   ]
  },
  {
   "cell_type": "code",
   "execution_count": 39,
   "id": "2573b0ba",
   "metadata": {},
   "outputs": [
    {
     "data": {
      "text/plain": [
       "array(1)"
      ]
     },
     "execution_count": 39,
     "metadata": {},
     "output_type": "execute_result"
    }
   ],
   "source": [
    "z = 34\n",
    "np.where(z>0, 1, 0)"
   ]
  },
  {
   "cell_type": "code",
   "execution_count": 62,
   "id": "34e24594",
   "metadata": {},
   "outputs": [],
   "source": [
    "#Create a perceptron class\n",
    "class Perceptron:\n",
    "    #data type of eta is float and the default value is None\n",
    "    def __init__(self, eta:float=None, epochs:int=None):\n",
    "        #for weight we are going to use the random values\n",
    "        #1e-4 - 10 to the power of -4\n",
    "        self.weights = np.random.randn(3)*1e-4\n",
    "        self.eta = eta #Learning rate\n",
    "        self.epochs = epochs #iterations\n",
    "        \n",
    "    def _z_outcome(self, inputs, weights):\n",
    "        return np.dot(inputs, weights)\n",
    "    \n",
    "    def activation_function(self,z):\n",
    "        #Step function as a activation function\n",
    "        return np.where(z>0, 1, 0)\n",
    "    \n",
    "        \n",
    "    #Fit method\n",
    "    def fit(self, X, y):\n",
    "        self.X = X\n",
    "        self.y = y\n",
    "        \n",
    "        #create a bias matrix and concatenate with the X value or X matrix\n",
    "        X_with_bias = np.c_[self.X, -np.ones((len(self.X),1))]\n",
    "        print(\"X with the bias :\\n{}\".format(X_with_bias))\n",
    "        \n",
    "        for epoch in range(self.epochs):\n",
    "            #Hidden or private method\n",
    "            print(\"--\"*10)\n",
    "            print(\"For epoch >> {}\".format(epoch+1))\n",
    "            print(\"--\"*10)\n",
    "            \n",
    "            z = self._z_outcome(X_with_bias, self.weights)\n",
    "            #Act func\n",
    "            y_hat = self.activation_function(z)\n",
    "            print(\"Predicted value after the forward propagation : {}\".format(y_hat))\n",
    "            \n",
    "            #Calculate error\n",
    "            self.error = self.y - y_hat\n",
    "            print(\"Error at every step :  {}\".format(self.error))\n",
    "            \n",
    "            #Update the weights after calculate the error values\n",
    "            self.weights = self.weights + self.eta * np.dot(X_with_bias.T,self.error)\n",
    "            print(\"Updated weights after epoch:{} \\n {}\".format((epoch+1)/(self.epochs),self.weights))\n",
    "            print(\"##\"*10)\n",
    "            \n",
    "    def predict(self,X):\n",
    "        X_with_bias = np.c_[X, -np.ones((len(X),1))]\n",
    "        z = self._z_outcome(X_with_bias,self.weights)\n",
    "        return self.activation_function(z)"
   ]
  },
  {
   "cell_type": "code",
   "execution_count": 63,
   "id": "e7c1a882",
   "metadata": {},
   "outputs": [
    {
     "data": {
      "text/html": [
       "<div>\n",
       "<style scoped>\n",
       "    .dataframe tbody tr th:only-of-type {\n",
       "        vertical-align: middle;\n",
       "    }\n",
       "\n",
       "    .dataframe tbody tr th {\n",
       "        vertical-align: top;\n",
       "    }\n",
       "\n",
       "    .dataframe thead th {\n",
       "        text-align: right;\n",
       "    }\n",
       "</style>\n",
       "<table border=\"1\" class=\"dataframe\">\n",
       "  <thead>\n",
       "    <tr style=\"text-align: right;\">\n",
       "      <th></th>\n",
       "      <th>x1</th>\n",
       "      <th>x2</th>\n",
       "      <th>y</th>\n",
       "    </tr>\n",
       "  </thead>\n",
       "  <tbody>\n",
       "    <tr>\n",
       "      <th>0</th>\n",
       "      <td>0</td>\n",
       "      <td>0</td>\n",
       "      <td>0</td>\n",
       "    </tr>\n",
       "    <tr>\n",
       "      <th>1</th>\n",
       "      <td>0</td>\n",
       "      <td>1</td>\n",
       "      <td>1</td>\n",
       "    </tr>\n",
       "    <tr>\n",
       "      <th>2</th>\n",
       "      <td>1</td>\n",
       "      <td>0</td>\n",
       "      <td>1</td>\n",
       "    </tr>\n",
       "    <tr>\n",
       "      <th>3</th>\n",
       "      <td>1</td>\n",
       "      <td>1</td>\n",
       "      <td>1</td>\n",
       "    </tr>\n",
       "  </tbody>\n",
       "</table>\n",
       "</div>"
      ],
      "text/plain": [
       "   x1  x2  y\n",
       "0   0   0  0\n",
       "1   0   1  1\n",
       "2   1   0  1\n",
       "3   1   1  1"
      ]
     },
     "execution_count": 63,
     "metadata": {},
     "output_type": "execute_result"
    }
   ],
   "source": [
    "OR = {\n",
    "    \"x1\":[0,0,1,1],\n",
    "    \"x2\":[0,1,0,1],\n",
    "    \"y\":[0,1,1,1]\n",
    "}\n",
    "\n",
    "df_OR = pd.DataFrame(OR)\n",
    "df_OR"
   ]
  },
  {
   "cell_type": "code",
   "execution_count": 64,
   "id": "31763159",
   "metadata": {},
   "outputs": [],
   "source": [
    "def prepare_data(df,target_col = 'y'):\n",
    "    X = df.drop(target_col,axis=1)\n",
    "    y = df[target_col]\n",
    "    return X,y\n"
   ]
  },
  {
   "cell_type": "code",
   "execution_count": 65,
   "id": "31824e60",
   "metadata": {},
   "outputs": [
    {
     "name": "stdout",
     "output_type": "stream",
     "text": [
      "X with the bias :\n",
      "[[ 0.  0. -1.]\n",
      " [ 0.  1. -1.]\n",
      " [ 1.  0. -1.]\n",
      " [ 1.  1. -1.]]\n",
      "--------------------\n",
      "For epoch >> 1\n",
      "--------------------\n",
      "Predicted value after the forward propagation : [1 1 1 1]\n",
      "Error at every step :  0   -1\n",
      "1    0\n",
      "2    0\n",
      "3    0\n",
      "Name: y, dtype: int64\n",
      "Updated weights after epoch:0.1 \n",
      " [0.00010681 0.00020564 0.09998342]\n",
      "####################\n",
      "--------------------\n",
      "For epoch >> 2\n",
      "--------------------\n",
      "Predicted value after the forward propagation : [0 0 0 0]\n",
      "Error at every step :  0    0\n",
      "1    1\n",
      "2    1\n",
      "3    1\n",
      "Name: y, dtype: int64\n",
      "Updated weights after epoch:0.2 \n",
      " [ 0.20010681  0.20020564 -0.20001658]\n",
      "####################\n",
      "--------------------\n",
      "For epoch >> 3\n",
      "--------------------\n",
      "Predicted value after the forward propagation : [1 1 1 1]\n",
      "Error at every step :  0   -1\n",
      "1    0\n",
      "2    0\n",
      "3    0\n",
      "Name: y, dtype: int64\n",
      "Updated weights after epoch:0.3 \n",
      " [ 0.20010681  0.20020564 -0.10001658]\n",
      "####################\n",
      "--------------------\n",
      "For epoch >> 4\n",
      "--------------------\n",
      "Predicted value after the forward propagation : [1 1 1 1]\n",
      "Error at every step :  0   -1\n",
      "1    0\n",
      "2    0\n",
      "3    0\n",
      "Name: y, dtype: int64\n",
      "Updated weights after epoch:0.4 \n",
      " [ 2.00106813e-01  2.00205642e-01 -1.65809014e-05]\n",
      "####################\n",
      "--------------------\n",
      "For epoch >> 5\n",
      "--------------------\n",
      "Predicted value after the forward propagation : [1 1 1 1]\n",
      "Error at every step :  0   -1\n",
      "1    0\n",
      "2    0\n",
      "3    0\n",
      "Name: y, dtype: int64\n",
      "Updated weights after epoch:0.5 \n",
      " [0.20010681 0.20020564 0.09998342]\n",
      "####################\n",
      "--------------------\n",
      "For epoch >> 6\n",
      "--------------------\n",
      "Predicted value after the forward propagation : [0 1 1 1]\n",
      "Error at every step :  0    0\n",
      "1    0\n",
      "2    0\n",
      "3    0\n",
      "Name: y, dtype: int64\n",
      "Updated weights after epoch:0.6 \n",
      " [0.20010681 0.20020564 0.09998342]\n",
      "####################\n",
      "--------------------\n",
      "For epoch >> 7\n",
      "--------------------\n",
      "Predicted value after the forward propagation : [0 1 1 1]\n",
      "Error at every step :  0    0\n",
      "1    0\n",
      "2    0\n",
      "3    0\n",
      "Name: y, dtype: int64\n",
      "Updated weights after epoch:0.7 \n",
      " [0.20010681 0.20020564 0.09998342]\n",
      "####################\n",
      "--------------------\n",
      "For epoch >> 8\n",
      "--------------------\n",
      "Predicted value after the forward propagation : [0 1 1 1]\n",
      "Error at every step :  0    0\n",
      "1    0\n",
      "2    0\n",
      "3    0\n",
      "Name: y, dtype: int64\n",
      "Updated weights after epoch:0.8 \n",
      " [0.20010681 0.20020564 0.09998342]\n",
      "####################\n",
      "--------------------\n",
      "For epoch >> 9\n",
      "--------------------\n",
      "Predicted value after the forward propagation : [0 1 1 1]\n",
      "Error at every step :  0    0\n",
      "1    0\n",
      "2    0\n",
      "3    0\n",
      "Name: y, dtype: int64\n",
      "Updated weights after epoch:0.9 \n",
      " [0.20010681 0.20020564 0.09998342]\n",
      "####################\n",
      "--------------------\n",
      "For epoch >> 10\n",
      "--------------------\n",
      "Predicted value after the forward propagation : [0 1 1 1]\n",
      "Error at every step :  0    0\n",
      "1    0\n",
      "2    0\n",
      "3    0\n",
      "Name: y, dtype: int64\n",
      "Updated weights after epoch:1.0 \n",
      " [0.20010681 0.20020564 0.09998342]\n",
      "####################\n"
     ]
    }
   ],
   "source": [
    "X,y = prepare_data(df_OR)\n",
    "ETA = 0.1\n",
    "EPOCHS = 10\n",
    "model_or = Perceptron(eta=ETA,epochs=EPOCHS)\n",
    "model_or.fit(X,y)\n"
   ]
  },
  {
   "cell_type": "code",
   "execution_count": 50,
   "id": "e1af6de2",
   "metadata": {},
   "outputs": [
    {
     "data": {
      "text/plain": [
       "array([0, 1, 1, 1])"
      ]
     },
     "execution_count": 50,
     "metadata": {},
     "output_type": "execute_result"
    }
   ],
   "source": [
    "model_or.predict(X)"
   ]
  },
  {
   "cell_type": "code",
   "execution_count": 51,
   "id": "dca59d5f",
   "metadata": {},
   "outputs": [
    {
     "data": {
      "text/plain": [
       "array([1])"
      ]
     },
     "execution_count": 51,
     "metadata": {},
     "output_type": "execute_result"
    }
   ],
   "source": [
    "model_or.predict(X=[[1,1]])"
   ]
  },
  {
   "cell_type": "code",
   "execution_count": 52,
   "id": "a09f935a",
   "metadata": {},
   "outputs": [
    {
     "data": {
      "text/plain": [
       "array([1])"
      ]
     },
     "execution_count": 52,
     "metadata": {},
     "output_type": "execute_result"
    }
   ],
   "source": [
    "model_or.predict(X=[[1,0]])"
   ]
  },
  {
   "cell_type": "code",
   "execution_count": 53,
   "id": "1d242a1d",
   "metadata": {},
   "outputs": [
    {
     "data": {
      "text/plain": [
       "array([0])"
      ]
     },
     "execution_count": 53,
     "metadata": {},
     "output_type": "execute_result"
    }
   ],
   "source": [
    "model_or.predict(X=[[0,0]])"
   ]
  },
  {
   "cell_type": "code",
   "execution_count": null,
   "id": "9babea96",
   "metadata": {},
   "outputs": [],
   "source": []
  }
 ],
 "metadata": {
  "kernelspec": {
   "display_name": "Python 3 (ipykernel)",
   "language": "python",
   "name": "python3"
  },
  "language_info": {
   "codemirror_mode": {
    "name": "ipython",
    "version": 3
   },
   "file_extension": ".py",
   "mimetype": "text/x-python",
   "name": "python",
   "nbconvert_exporter": "python",
   "pygments_lexer": "ipython3",
   "version": "3.7.13"
  }
 },
 "nbformat": 4,
 "nbformat_minor": 5
}
